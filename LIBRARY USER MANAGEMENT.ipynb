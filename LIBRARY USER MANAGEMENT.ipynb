{
 "cells": [
  {
   "cell_type": "code",
   "execution_count": 2,
   "id": "4556576c",
   "metadata": {},
   "outputs": [],
   "source": [
    "import pandas as pd\n",
    "import numpy as np"
   ]
  },
  {
   "cell_type": "markdown",
   "id": "c3f38fa6",
   "metadata": {},
   "source": [
    "INITIALISATION(RESET FOR USERS)"
   ]
  },
  {
   "cell_type": "code",
   "execution_count": 1,
   "id": "ec8e93fb",
   "metadata": {},
   "outputs": [],
   "source": [
    "#dic={'USERNAME':['LIBRARY'],'PASSWORD':['@lib@#']}\n",
    "#df_user=pd.DataFrame(dic)\n",
    "#df_user.to_csv('USER_LIST.csv',index=False)"
   ]
  },
  {
   "cell_type": "code",
   "execution_count": 4,
   "id": "e309bcb2",
   "metadata": {},
   "outputs": [
    {
     "data": {
      "text/html": [
       "<div>\n",
       "<style scoped>\n",
       "    .dataframe tbody tr th:only-of-type {\n",
       "        vertical-align: middle;\n",
       "    }\n",
       "\n",
       "    .dataframe tbody tr th {\n",
       "        vertical-align: top;\n",
       "    }\n",
       "\n",
       "    .dataframe thead th {\n",
       "        text-align: right;\n",
       "    }\n",
       "</style>\n",
       "<table border=\"1\" class=\"dataframe\">\n",
       "  <thead>\n",
       "    <tr style=\"text-align: right;\">\n",
       "      <th></th>\n",
       "      <th>USERNAME</th>\n",
       "      <th>PASSWORD</th>\n",
       "    </tr>\n",
       "  </thead>\n",
       "  <tbody>\n",
       "    <tr>\n",
       "      <th>0</th>\n",
       "      <td>LIBRARY</td>\n",
       "      <td>@lib@#</td>\n",
       "    </tr>\n",
       "    <tr>\n",
       "      <th>1</th>\n",
       "      <td>rahul</td>\n",
       "      <td>1234</td>\n",
       "    </tr>\n",
       "    <tr>\n",
       "      <th>2</th>\n",
       "      <td>sanket</td>\n",
       "      <td>3323</td>\n",
       "    </tr>\n",
       "    <tr>\n",
       "      <th>3</th>\n",
       "      <td>subham</td>\n",
       "      <td>0990</td>\n",
       "    </tr>\n",
       "    <tr>\n",
       "      <th>4</th>\n",
       "      <td>avnit</td>\n",
       "      <td>3223</td>\n",
       "    </tr>\n",
       "    <tr>\n",
       "      <th>5</th>\n",
       "      <td>ramesh</td>\n",
       "      <td>4331</td>\n",
       "    </tr>\n",
       "  </tbody>\n",
       "</table>\n",
       "</div>"
      ],
      "text/plain": [
       "  USERNAME PASSWORD\n",
       "0  LIBRARY   @lib@#\n",
       "1    rahul     1234\n",
       "2   sanket     3323\n",
       "3   subham     0990\n",
       "4    avnit     3223\n",
       "5   ramesh     4331"
      ]
     },
     "execution_count": 4,
     "metadata": {},
     "output_type": "execute_result"
    }
   ],
   "source": [
    "df_user=pd.read_csv('USER_LIST.csv')\n",
    "df_user"
   ]
  },
  {
   "cell_type": "markdown",
   "id": "effed942",
   "metadata": {},
   "source": [
    "USER ADD\n",
    "--"
   ]
  },
  {
   "cell_type": "code",
   "execution_count": 5,
   "id": "d025f9dc",
   "metadata": {},
   "outputs": [],
   "source": [
    "def add_user():\n",
    "    df_user=pd.read_csv('USER_LIST.csv')\n",
    "    \n",
    "    \n",
    "    \n",
    "    while True:\n",
    "        usern=input('Enter the new user name: ')\n",
    "        if usern not in list(df_user['USERNAME']):\n",
    "            userp=input('New password: ')\n",
    "\n",
    "            \n",
    "            if userp=='':\n",
    "                print('password cannot be empty')\n",
    "                break\n",
    "                    \n",
    "            else:\n",
    "                x=df_user['USERNAME'].size\n",
    "                df_user.loc[x]=[usern.lower(),userp]\n",
    "                df_user.to_csv('USER_LIST.csv',index=False)\n",
    "                break\n",
    "        else:\n",
    "            print(f'User with same name exists \\n \\n please try using {usern}1 or similiar')\n",
    "            continue\n",
    "            "
   ]
  },
  {
   "cell_type": "markdown",
   "id": "bf032691",
   "metadata": {},
   "source": [
    "USER DELETION\n",
    "--"
   ]
  },
  {
   "cell_type": "code",
   "execution_count": 6,
   "id": "c219ec77",
   "metadata": {},
   "outputs": [],
   "source": [
    "def delete_user():\n",
    "    df_user=pd.read_csv('USER_LIST.csv')\n",
    "    \n",
    "    un=input('Enter Name to be deleted: ')\n",
    "    up=input('Enter the password: ')\n",
    "    \n",
    "    x=df_user[(df_user.USERNAME==un) & (df_user.PASSWORD==up)]\n",
    "    if x.empty==True:\n",
    "        print('\\n \\n Invalid Entry')\n",
    "    else:\n",
    "        df_user.drop(x.index,inplace=True)\n",
    "        df_user.to_csv('USER_LIST.csv',index=False)\n",
    "        print('USER DELETED SUCCESSFULLY')"
   ]
  },
  {
   "cell_type": "markdown",
   "id": "04d76fc5",
   "metadata": {},
   "source": [
    "CONTINUOUS USER ADDITION\n",
    "--\n",
    "    \n",
    "        "
   ]
  },
  {
   "cell_type": "code",
   "execution_count": 7,
   "id": "deddb800",
   "metadata": {},
   "outputs": [],
   "source": [
    "def cont_useradd():\n",
    "    while True:\n",
    "        s=input('Do u want to add user(y/n): ')\n",
    "        if s=='n':\n",
    "            break\n",
    "        elif s=='y':\n",
    "            add_user()\n",
    "        else:\n",
    "            print('Incorrect input')\n",
    "            continue\n"
   ]
  },
  {
   "cell_type": "markdown",
   "id": "efe83aed",
   "metadata": {},
   "source": [
    "IMPLEMENTATION\n",
    "--"
   ]
  },
  {
   "cell_type": "code",
   "execution_count": 18,
   "id": "ecea5498",
   "metadata": {},
   "outputs": [
    {
     "name": "stdout",
     "output_type": "stream",
     "text": [
      "Do You Want to Add/Remove Users of The Library(Y/N): y\n",
      "\n",
      "             OPERATIONS AVAILABLE:\n",
      "             1. ADD A USER\n",
      "             2. REMOVE A USER\n",
      "             3. ADD MULTIPLE USERS \n",
      "\n",
      "\n",
      "\n",
      "Please select your desired option (1/2/3): 2\n",
      "Enter Name to be deleted: fukru\n",
      "Enter the password: 1223\n",
      "\n",
      " \n",
      " Invalid Entry\n",
      "Do You Want to Add/Remove Users of The Library(Y/N): y\n",
      "\n",
      "             OPERATIONS AVAILABLE:\n",
      "             1. ADD A USER\n",
      "             2. REMOVE A USER\n",
      "             3. ADD MULTIPLE USERS \n",
      "\n",
      "\n",
      "\n",
      "Please select your desired option (1/2/3): 2\n",
      "Enter Name to be deleted: fukru\n",
      "Enter the password: 23445\n",
      "USER DELETED SUCCESSFULLY\n",
      "Do You Want to Add/Remove Users of The Library(Y/N): n\n",
      "THANK YOU\n"
     ]
    }
   ],
   "source": [
    "while True:\n",
    "    x=input('Do You Want to Add/Remove Users of The Library(Y/N): ')\n",
    "    if x.lower()=='y':\n",
    "        print('''\n",
    "             OPERATIONS AVAILABLE:\n",
    "             1. ADD A USER\n",
    "             2. REMOVE A USER\n",
    "             3. ADD MULTIPLE USERS ''')\n",
    "\n",
    "        print('\\n\\n')\n",
    "\n",
    "        op=input('Please select your desired option (1/2/3): ')\n",
    "\n",
    "        if op=='1':\n",
    "            add_user()\n",
    "        elif op=='2':\n",
    "            delete_user()\n",
    "        elif op=='3':\n",
    "            cont_useradd()\n",
    "        else:\n",
    "            print('INVALID OPTION CHOOSEN')\n",
    "    elif x.lower()=='n':\n",
    "        print('THANK YOU')\n",
    "        break\n",
    "    else:\n",
    "        print('Invalid Choice')\n",
    "        continue\n",
    "\n"
   ]
  },
  {
   "cell_type": "code",
   "execution_count": null,
   "id": "14406570",
   "metadata": {},
   "outputs": [],
   "source": []
  },
  {
   "cell_type": "code",
   "execution_count": null,
   "id": "708c1bd2",
   "metadata": {},
   "outputs": [],
   "source": []
  },
  {
   "cell_type": "code",
   "execution_count": null,
   "id": "7ea23759",
   "metadata": {},
   "outputs": [],
   "source": [
    "\n"
   ]
  },
  {
   "cell_type": "code",
   "execution_count": null,
   "id": "4b8776fa",
   "metadata": {},
   "outputs": [],
   "source": []
  }
 ],
 "metadata": {
  "kernelspec": {
   "display_name": "Python 3 (ipykernel)",
   "language": "python",
   "name": "python3"
  },
  "language_info": {
   "codemirror_mode": {
    "name": "ipython",
    "version": 3
   },
   "file_extension": ".py",
   "mimetype": "text/x-python",
   "name": "python",
   "nbconvert_exporter": "python",
   "pygments_lexer": "ipython3",
   "version": "3.9.7"
  }
 },
 "nbformat": 4,
 "nbformat_minor": 5
}
